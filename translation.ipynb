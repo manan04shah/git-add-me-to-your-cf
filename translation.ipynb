{
 "cells": [
  {
   "cell_type": "code",
   "execution_count": 1,
   "metadata": {},
   "outputs": [],
   "source": [
    "import deepl\n",
    "import os"
   ]
  },
  {
   "cell_type": "code",
   "execution_count": 4,
   "metadata": {},
   "outputs": [],
   "source": [
    "deepl_api_key = os.getenv('DEEPL_API_KEY')  \n",
    "translator = deepl.Translator(deepl_api_key)\n"
   ]
  },
  {
   "cell_type": "code",
   "execution_count": 5,
   "metadata": {},
   "outputs": [
    {
     "name": "stdout",
     "output_type": "stream",
     "text": [
      "Bonjour à tous !\n"
     ]
    }
   ],
   "source": [
    "result = translator.translate_text(\"Hello, world!\", target_lang=\"FR\")\n",
    "print(result.text)  # \"Bonjour, le monde !\"\n"
   ]
  },
  {
   "cell_type": "code",
   "execution_count": 24,
   "metadata": {},
   "outputs": [],
   "source": [
    "def translate(text, source, target):\n",
    "    sources = [\"BG\", \"CS\", \"DA\", \"DE\", \"EL\", \"EN\", \"ES\", \"ET\", \"FI\", \"FR\", \"HU\", \"ID\", \"IT\", \"JA\", \"KO\", \"LT\", \"LV\", \"NB\", \"NL\", \"PL\", \"PT\", \"RO\", \"RU\", \"SK\", \"SL\", \"SV\", \"TR\", \"UK\", \"ZH\"]\n",
    "    targets = [\"BG\", \"CS\", \"DA\", \"DE\", \"EL\", \"EN-GB\", \"EN-US\", \"ES\", \"ET\", \"FI\", \"FR\", \"HU\", \"ID\", \"IT\", \"JA\", \"KO\", \"LT\", \"LV\", \"NB\", \"NL\", \"PL\", \"PT-BR\", \"PT-PT\", \"RO\", \"RU\", \"SK\", \"SL\", \"SV\", \"TR\", \"UK\", \"ZH\"]\n",
    "\n",
    "    if source not in sources:\n",
    "        return \"Unsupported source language\"\n",
    "    if target not in targets:\n",
    "        return \"Unsupported destination language\"\n",
    "    \n",
    "    result = translator.translate_text(text, source_lang=source, target_lang=target)\n",
    "    if type(text) is list:\n",
    "        return [r.text for r in result]\n",
    "    else:\n",
    "        return result.text"
   ]
  },
  {
   "cell_type": "code",
   "execution_count": 25,
   "metadata": {},
   "outputs": [
    {
     "data": {
      "text/plain": [
       "['Bonjour le monde', 'Je suis gay']"
      ]
     },
     "execution_count": 25,
     "metadata": {},
     "output_type": "execute_result"
    }
   ],
   "source": [
    "translated_text = translate(['hello world','i am gay'], \"EN\", \"FR\")\n",
    "translated_text"
   ]
  },
  {
   "cell_type": "code",
   "execution_count": 1,
   "metadata": {},
   "outputs": [
    {
     "ename": "NameError",
     "evalue": "name 'video_path' is not defined",
     "output_type": "error",
     "traceback": [
      "\u001b[0;31m---------------------------------------------------------------------------\u001b[0m",
      "\u001b[0;31mNameError\u001b[0m                                 Traceback (most recent call last)",
      "Cell \u001b[0;32mIn[1], line 2\u001b[0m\n\u001b[1;32m      1\u001b[0m \u001b[38;5;28;01mimport\u001b[39;00m \u001b[38;5;21;01mcv2\u001b[39;00m\n\u001b[0;32m----> 2\u001b[0m cap \u001b[38;5;241m=\u001b[39m cv2\u001b[38;5;241m.\u001b[39mVideoCapture(\u001b[43mvideo_path\u001b[49m)\n",
      "\u001b[0;31mNameError\u001b[0m: name 'video_path' is not defined"
     ]
    }
   ],
   "source": [
    "import cv2\n",
    "cap = cv2.VideoCapture(video_path)\n"
   ]
  }
 ],
 "metadata": {
  "kernelspec": {
   "display_name": "Python 3",
   "language": "python",
   "name": "python3"
  },
  "language_info": {
   "codemirror_mode": {
    "name": "ipython",
    "version": 3
   },
   "file_extension": ".py",
   "mimetype": "text/x-python",
   "name": "python",
   "nbconvert_exporter": "python",
   "pygments_lexer": "ipython3",
   "version": "3.10.12"
  }
 },
 "nbformat": 4,
 "nbformat_minor": 2
}
